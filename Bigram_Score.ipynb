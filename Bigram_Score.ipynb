{
 "cells": [
  {
   "cell_type": "code",
   "execution_count": 1,
   "metadata": {},
   "outputs": [],
   "source": [
    "import pandas as pd\n",
    "from tqdm import tqdm\n",
    "\n",
    "df = pd.read_csv('mBase_29jun_abstract.csv')\n",
    "abstracts = df['Abstract'].tolist()"
   ]
  },
  {
   "cell_type": "code",
   "execution_count": 2,
   "metadata": {},
   "outputs": [
    {
     "name": "stdout",
     "output_type": "stream",
     "text": [
      "Number of abstracts: 334\n"
     ]
    }
   ],
   "source": [
    "print(f'Number of abstracts: {len(abstracts)}')"
   ]
  },
  {
   "cell_type": "code",
   "execution_count": 3,
   "metadata": {},
   "outputs": [],
   "source": [
    "import nltk\n",
    "from collections import Counter\n",
    "\n",
    "def get_bigram_distribution(theme):\n",
    "    normalized_theme = theme.strip().lower()\n",
    "    all_bigrams = [b for l in abstracts for b in zip(l.split(\" \")[:-1], l.split(\" \")[1:])]\n",
    "    bigrams = []\n",
    "    for milk_bigram in tqdm(all_bigrams):\n",
    "        word = milk_bigram[0].replace('.', '').lower()\n",
    "        token = nltk.word_tokenize(word)\n",
    "        tag = list(nltk.pos_tag(token))\n",
    "        if milk_bigram[1].strip().lower() == normalized_theme and ',' not in milk_bigram[1] and tag and tag[0][1] in 'NNS NNPS':\n",
    "            bigrams.append(word)\n",
    "    return Counter(bigrams)\n",
    "\n",
    "def get_bigram_score(words, theme):\n",
    "    bigrams_freq = get_bigram_distribution(theme)\n",
    "    bigrams_total = sum(bigrams_freq.values(), 0.0)\n",
    "    numerator = 0\n",
    "    for word in words:\n",
    "        if word in bigrams_freq:\n",
    "            numerator += bigrams_freq[word]\n",
    "    return numerator / bigrams_total if bigrams_total != 0 else 0"
   ]
  },
  {
   "cell_type": "code",
   "execution_count": 4,
   "metadata": {},
   "outputs": [
    {
     "name": "stderr",
     "output_type": "stream",
     "text": [
      "100%|██████████| 49116/49116 [00:24<00:00, 1971.16it/s]\n"
     ]
    },
    {
     "data": {
      "text/plain": [
       "0.723055934515689"
      ]
     },
     "execution_count": 4,
     "metadata": {},
     "output_type": "execute_result"
    }
   ],
   "source": [
    "get_bigram_score(['human', 'breast'], 'milk')"
   ]
  },
  {
   "cell_type": "code",
   "execution_count": 5,
   "metadata": {},
   "outputs": [
    {
     "name": "stderr",
     "output_type": "stream",
     "text": [
      "100%|██████████| 49116/49116 [00:27<00:00, 1793.58it/s]\n"
     ]
    },
    {
     "data": {
      "text/plain": [
       "Counter({'human': 360,\n",
       "         'breast': 170,\n",
       "         'dutch': 1,\n",
       "         'percent': 1,\n",
       "         'mature': 32,\n",
       "         't': 2,\n",
       "         'vpt': 2,\n",
       "         'pt': 8,\n",
       "         'chromatography': 1,\n",
       "         'month': 1,\n",
       "         'rumen': 1,\n",
       "         'fa)': 1,\n",
       "         'affect': 1,\n",
       "         'enhance': 3,\n",
       "         'min)': 1,\n",
       "         'donor': 9,\n",
       "         'milk': 1,\n",
       "         'consequence,': 1,\n",
       "         'cattle': 1,\n",
       "         'formula': 4,\n",
       "         'insufficient': 2,\n",
       "         \"mother's\": 9,\n",
       "         'control': 1,\n",
       "         'cla': 1,\n",
       "         'preterm': 11,\n",
       "         'term': 4,\n",
       "         \"cow's\": 5,\n",
       "         'sufficient': 1,\n",
       "         'procedure,': 1,\n",
       "         'twenty-four-hour': 1,\n",
       "         'spot': 1,\n",
       "         'pure': 1,\n",
       "         'h': 3,\n",
       "         'mo': 2,\n",
       "         'maternal': 8,\n",
       "         'excretion': 1,\n",
       "         'diet': 1,\n",
       "         'postpartum': 1,\n",
       "         'bovine': 15,\n",
       "         'time': 2,\n",
       "         'sparse': 1,\n",
       "         'lactation': 2,\n",
       "         \"mothers'\": 2,\n",
       "         'raw': 1,\n",
       "         'animal': 1,\n",
       "         'bank': 2,\n",
       "         'metabolize': 1,\n",
       "         'fat': 1,\n",
       "         'intake': 1,\n",
       "         'skim': 1,\n",
       "         'kcal/day': 1,\n",
       "         'eulemur': 1,\n",
       "         'otolemur': 1,\n",
       "         'transition': 1,\n",
       "         'countries': 1,\n",
       "         'otomi': 2,\n",
       "         'caprine': 1,\n",
       "         'ruminant': 1,\n",
       "         'packaging': 1,\n",
       "         'postparturition': 1,\n",
       "         'relate': 1,\n",
       "         'enter': 1,\n",
       "         'excess': 1,\n",
       "         'multifunctional': 1,\n",
       "         'bioactive': 1,\n",
       "         'phenomenon': 1,\n",
       "         'breastfeeding': 1,\n",
       "         'drip': 1,\n",
       "         '=': 4,\n",
       "         'elephant': 3,\n",
       "         'cows': 1,\n",
       "         'peroxidase,': 1,\n",
       "         'cow': 2,\n",
       "         'composition': 1,\n",
       "         'milk,': 1,\n",
       "         \"cows'\": 2,\n",
       "         'vegetarians': 1,\n",
       "         'fullterm': 1,\n",
       "         'levels': 1,\n",
       "         'mean': 1,\n",
       "         'increase': 1,\n",
       "         \"mare's\": 5,\n",
       "         'women’': 1,\n",
       "         'sixty': 1,\n",
       "         'content': 1,\n",
       "         'iii-containing': 1})"
      ]
     },
     "execution_count": 5,
     "metadata": {},
     "output_type": "execute_result"
    }
   ],
   "source": [
    "get_bigram_distribution('milk')"
   ]
  }
 ],
 "metadata": {
  "kernelspec": {
   "display_name": "Python 3",
   "language": "python",
   "name": "python3"
  },
  "language_info": {
   "codemirror_mode": {
    "name": "ipython",
    "version": 3
   },
   "file_extension": ".py",
   "mimetype": "text/x-python",
   "name": "python",
   "nbconvert_exporter": "python",
   "pygments_lexer": "ipython3",
   "version": "3.7.3"
  }
 },
 "nbformat": 4,
 "nbformat_minor": 4
}
